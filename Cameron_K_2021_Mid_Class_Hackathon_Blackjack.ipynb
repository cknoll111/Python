{
  "nbformat": 4,
  "nbformat_minor": 0,
  "metadata": {
    "kernelspec": {
      "display_name": "Python 3",
      "language": "python",
      "name": "python3"
    },
    "language_info": {
      "codemirror_mode": {
        "name": "ipython",
        "version": 3
      },
      "file_extension": ".py",
      "mimetype": "text/x-python",
      "name": "python",
      "nbconvert_exporter": "python",
      "pygments_lexer": "ipython3",
      "version": "3.6.7"
    },
    "colab": {
      "name": "Cameron K - 2021 Mid-Class Hackathon - Blackjack.ipynb",
      "provenance": [],
      "collapsed_sections": [],
      "include_colab_link": true
    }
  },
  "cells": [
    {
      "cell_type": "markdown",
      "metadata": {
        "id": "view-in-github",
        "colab_type": "text"
      },
      "source": [
        "<a href=\"https://colab.research.google.com/github/cknoll111/Python/blob/main/Cameron_K_2021_Mid_Class_Hackathon_Blackjack.ipynb\" target=\"_parent\"><img src=\"https://colab.research.google.com/assets/colab-badge.svg\" alt=\"Open In Colab\"/></a>"
      ]
    },
    {
      "cell_type": "markdown",
      "metadata": {
        "id": "wGVXIFHw9x52"
      },
      "source": [
        "## <font color='red'>Software Developer Foundations - Mid-Course Hackathon</font>\n",
        "\n",
        "### Play Blackjack\n",
        "For this coding workshop, you will implement a 2-player game of Blackjack.  If you are unsure about how Blackjack is played, you may please ask an instructor or review the [Rules of Blackjack](https://www.blackjackapprenticeship.com/how-to-play-blackjack/).\n",
        "\n",
        "#### Assumptions\n",
        "    Player 1 will always go first and get all of his/her cards\n",
        "    Player 2 will always follow Player 1 and have the advantage of knowing Player 1's hand.\n",
        "    The Ace card will always count as a one (1)"
      ]
    },
    {
      "cell_type": "markdown",
      "metadata": {
        "id": "DTpWauyS9x58"
      },
      "source": [
        "#### Let's Begin!"
      ]
    },
    {
      "cell_type": "markdown",
      "metadata": {
        "id": "1xRvDs6_9x59"
      },
      "source": [
        "Import the _random_ module"
      ]
    },
    {
      "cell_type": "code",
      "metadata": {
        "id": "IcAKYpNc9x59",
        "colab": {
          "base_uri": "https://localhost:8080/"
        },
        "outputId": "6a5590a0-552b-401c-a7f5-efbeab3d1b5c"
      },
      "source": [
        "# Import the random module here\n",
        "import random\n",
        "!pip install colorama\n",
        "from colorama import Fore, Back, Style"
      ],
      "execution_count": null,
      "outputs": [
        {
          "output_type": "stream",
          "text": [
            "Collecting colorama\n",
            "  Downloading https://files.pythonhosted.org/packages/44/98/5b86278fbbf250d239ae0ecb724f8572af1c91f4a11edf4d36a206189440/colorama-0.4.4-py2.py3-none-any.whl\n",
            "Installing collected packages: colorama\n",
            "Successfully installed colorama-0.4.4\n"
          ],
          "name": "stdout"
        }
      ]
    },
    {
      "cell_type": "markdown",
      "metadata": {
        "id": "ZMhyGYxx9x5-"
      },
      "source": [
        "Create a dictionary of cards that will be used in the game.  You should use the \"card name\" as the key and it's \"blackjack value\" as the value.  For example, a 'jack' should have the value 10, etc."
      ]
    },
    {
      "cell_type": "code",
      "metadata": {
        "id": "HgWk-fry9x5-"
      },
      "source": [
        "# Create cards dictionary\n",
        "cards = {\n",
        "    \"A\" : 1,  \n",
        "    \"1\" : 1,\n",
        "    \"2\" : 2,\n",
        "    \"3\" : 3,\n",
        "    \"4\" : 4,\n",
        "    \"5\" : 5,\n",
        "    \"6\" : 6,\n",
        "    \"7\" : 7,\n",
        "    \"8\" : 8,\n",
        "    \"9\" : 9,\n",
        "    \"10\": 10,\n",
        "    \"J\" : 10,\n",
        "    \"Q\" : 10,\n",
        "    \"K\" : 10\n",
        "}"
      ],
      "execution_count": null,
      "outputs": []
    },
    {
      "cell_type": "markdown",
      "metadata": {
        "id": "G886NhC79x5-"
      },
      "source": [
        "Define a string variable named *reportScore* that is assigned a string literal with a '{}' placeholder.  The string literal will inform the user of the \"Current score\". We'll use this later. "
      ]
    },
    {
      "cell_type": "code",
      "metadata": {
        "id": "9tRupvMU9x5_"
      },
      "source": [
        "# Create reportScore\n",
        "reportScore = \"{}\""
      ],
      "execution_count": null,
      "outputs": []
    },
    {
      "cell_type": "markdown",
      "metadata": {
        "id": "hWIIassl9x5_"
      },
      "source": [
        "### Create a function named \"getCard\" that randomly draws a card from the _cards_ dictionary and returns the associated value.\n",
        "1. Use the *random.choice()* function to draw a single **card name** from the _cards_ dictionary.  \n",
        "__NOTE: We will not keep track of cards that have already been drawn.__\n",
        "2. Display the card that was randomly drawn using a print statement.\n",
        "3. Return the **value** of the drawn card.\n",
        "\n",
        "##### Test the function using a function call to getCard"
      ]
    },
    {
      "cell_type": "code",
      "metadata": {
        "id": "BDgp2-JC9x5_",
        "colab": {
          "base_uri": "https://localhost:8080/"
        },
        "outputId": "d974dcf4-6fc0-40e2-c9eb-af2fcafa7d18"
      },
      "source": [
        "# Create the getCard() function\n",
        "def getCard():\n",
        "    card, value = random.choice(list(cards.items()))\n",
        "    print(f\"You draw a {card}!\")\n",
        "    return value\n",
        "\n"
      ],
      "execution_count": null,
      "outputs": [
        {
          "output_type": "stream",
          "text": [
            "You draw a 10!\n"
          ],
          "name": "stdout"
        },
        {
          "output_type": "execute_result",
          "data": {
            "text/plain": [
              "10"
            ]
          },
          "metadata": {
            "tags": []
          },
          "execution_count": 28
        }
      ]
    },
    {
      "cell_type": "markdown",
      "metadata": {
        "id": "jqOb3ysE9x5_"
      },
      "source": [
        "### Define a function called _declareWinner()_\n",
        "- It will have two integer arguments:  Player 1's score and Player 2's score.\n",
        "- Depending on the higher score, it will display (print) which player is the winner OR state that the game was a tie.\n",
        "HINT:  Think of the example in the written assessment\n",
        "\n",
        "##### Test the function using a function call to declareWinner()"
      ]
    },
    {
      "cell_type": "code",
      "metadata": {
        "id": "bPKY0Gna9x6A"
      },
      "source": [
        "# Declare declareWinner().  It has two arguments.\n",
        "def declareWinner(P1,P2):\n",
        "  if (P1 > P2):\n",
        "    print(f\"{Fore.GREEN} Player 1 is the winner!\")\n",
        "  elif (P2 > P1):\n",
        "    print(f\"{Fore.RED}Player 2 is the winner!\")\n",
        "  else :\n",
        "    print(f\"{Fore.YELLOW}It is a tie!\")\n",
        "    \n",
        " \n",
        "# Don't forget to test here by calling declareWinner() below using 2 parameters\n"
      ],
      "execution_count": null,
      "outputs": []
    },
    {
      "cell_type": "markdown",
      "metadata": {
        "id": "KlvtFCBv9x6A"
      },
      "source": [
        "### Define a function called _playHand()_\n",
        "\n",
        "- This function takes one argument:  A string that describes who is playing the hand (Player 1 or Player 2).\n",
        "- This function returns the final score of the player's hand\n",
        "\n",
        "There are comments that describe how to write this function.  Here's the summary:\n",
        "\n",
        "- Initialize a variable _score_ to zero\n",
        "- Display the string argument\n",
        "- Deal two cards and sum the scores.\n",
        "- Check if the score is 21 then return the score.\n",
        "- Otherwise, you'll need to create a loop that does the following:\n",
        "    a) Report the current score\n",
        "    b) Ask the player if they want to \"hit or stay\". If they choose to take a \"hit\", then you'll need to deal them another card and add to their total card value.\n",
        "    b) Check if the total card value is > 21. If so, display 'You've busted.' and break out of the loop.\n",
        "- Return the total value AFTER the while loop."
      ]
    },
    {
      "cell_type": "code",
      "metadata": {
        "id": "h8pH3zFS9x6A"
      },
      "source": [
        "def playHand(playerTurn):\n",
        "\n",
        "    # Initialize the score of the current hand\n",
        "    currentHand = 0    \n",
        "    # Print out the playerTurn\n",
        "    print(f\"{Fore.BLUE}It is currently {playerTurn}'s turn'\")\n",
        "    # Deal two cards and add the scores\n",
        "    currentHand = (getCard() + getCard())\n",
        "    print(currentHand)\n",
        "    # If the score is 21, display \"Blackjack!\" and return that score\n",
        "    if (currentHand == 21):\n",
        "      print(\"Blackjack!\")\n",
        "      return currentHand\n",
        "    # Otherwise determine if the player wants to 'hit' or 'stay'\n",
        "    else:\n",
        "        while True:\n",
        "        \n",
        "            # Report the current score using reportScore in a format() string\n",
        "            print(f\"Current total is: {currentHand}\")\n",
        "            # Ask if the player wants to hit or stay.  Get the user input.\n",
        "            hitStay = input(\"Do you want to hit or stay?\")\n",
        "            # if they 'hit', get a card and add the score to the running total score\n",
        "            if (hitStay == \"hit\"):\n",
        "              currentHand = (currentHand + getCard())\n",
        "              \n",
        "            # else if they 'stay' print a blank line and break out of the while loop\n",
        "            if (hitStay == \"stay\"):\n",
        "              print()\n",
        "              break\n",
        "\n",
        "            # else if they enter neither 'hit' nor 'stay', display 'Invalid entry'\n",
        "            # and continue the loop\n",
        "            elif ((hitStay != \"hit\") and (hitStay != \"stay\")):\n",
        "              print(\"Invalid entry\")\n",
        "             # if the score is bigger than 21 display \"You bust!\" and set score to 0.  Return score.\n",
        "            if (currentHand > 21):\n",
        "              print(\"you bust!\")\n",
        "              currentHand = 0\n",
        "              return currentHand\n",
        "    # return the final score of the hand  \n",
        "    return currentHand\n",
        "# Don't forget to test here by calling playHand(\"Player 1's turn\") below\n"
      ],
      "execution_count": null,
      "outputs": []
    },
    {
      "cell_type": "markdown",
      "metadata": {
        "id": "gnha0al29x6B"
      },
      "source": [
        "### Define a function called _playGame_\n",
        "    \n",
        "This function will capture ONE game of Blackjack between two players\n",
        "    \n",
        "    1. Define two integer variables that maintain the score of player 1 and player 2.  Initialize them each to zero.\n",
        "    2. Play the hand for Player 1 by calling _playHand()_.  You should pass a string announcing who's turn it is.  Be sure to capture the returned score of that hand.\n",
        "    3. Do the same for Player 2\n",
        "    4. Call _declareWinner()_ by passing it the player scores."
      ]
    },
    {
      "cell_type": "code",
      "metadata": {
        "id": "BvMsaYgO9x6B"
      },
      "source": [
        "# Define the playGame() function\n",
        "def playGame():\n",
        "  P1Score = 0\n",
        "  P2Score = 0\n",
        "\n",
        "  P1Score = playHand(\"Player 1\") \n",
        "\n",
        "  P2Score = playHand(\"Player 2\") \n",
        "\n",
        "  declareWinner(P1Score,P2Score)\n",
        "\n",
        "\n",
        "# Don't forget to test here by calling playGame() below\n"
      ],
      "execution_count": null,
      "outputs": []
    },
    {
      "cell_type": "markdown",
      "metadata": {
        "id": "lnjA6zFf9x6B"
      },
      "source": [
        "### Create the 'driver loop'\n",
        "\n",
        "You need to create a function called _main()_ that determines whether the user wants to play a 2-player hand of Blackjack.\n",
        "- _while_ loop that interactively asks the user for input. Does he/she want to play a hand of Blackjack?  \n",
        "- This loop will invoke the _playGame()_ function defined above if the user wants to play.  \n",
        "- Otherwise, if they do not want to play, you'll display \"Goodbye!\" and exit the game.\n",
        "\n",
        "NOTE:  Remember to make this _while_ loop an \"infinite while loop\"."
      ]
    },
    {
      "cell_type": "code",
      "metadata": {
        "id": "QHfDGpbK9x6C"
      },
      "source": [
        "# Define a function called main()\n",
        "def main():\n",
        "  choice = \"yes\"\n",
        "  \n",
        "  while (choice == 'yes'):\n",
        "    choice = input(\"Do you want to play a hand of Blackjack? Type 'yes' or 'no'\")\n",
        "    if (choice == 'yes'):\n",
        "      playGame()\n",
        "    else:\n",
        "      print(\"Goodbye!\")\n",
        "    \n",
        "\n",
        "\n",
        "# After the main function is defined above, call it below.  \n",
        "# That's how the game gets started.\n",
        "main()"
      ],
      "execution_count": null,
      "outputs": []
    },
    {
      "cell_type": "markdown",
      "metadata": {
        "id": "nBaejAqn9x6C"
      },
      "source": [
        "## Test your game by playing multiple games\n",
        "\n",
        "You may need to restart the kernel and re-run the entire notebook by selecting `Runtime` from the menu and choosing `Restart and run all`."
      ]
    }
  ]
}
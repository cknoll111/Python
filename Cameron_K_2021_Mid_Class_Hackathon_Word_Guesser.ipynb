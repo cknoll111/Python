{
  "nbformat": 4,
  "nbformat_minor": 0,
  "metadata": {
    "colab": {
      "name": "Cameron K - 2021 Mid-Class Hackathon - Word Guesser.ipynb",
      "provenance": [],
      "collapsed_sections": [],
      "include_colab_link": true
    },
    "kernelspec": {
      "name": "python3",
      "display_name": "Python 3"
    }
  },
  "cells": [
    {
      "cell_type": "markdown",
      "metadata": {
        "id": "view-in-github",
        "colab_type": "text"
      },
      "source": [
        "<a href=\"https://colab.research.google.com/github/cknoll111/Python/blob/main/Cameron_K_2021_Mid_Class_Hackathon_Word_Guesser.ipynb\" target=\"_parent\"><img src=\"https://colab.research.google.com/assets/colab-badge.svg\" alt=\"Open In Colab\"/></a>"
      ]
    },
    {
      "cell_type": "markdown",
      "metadata": {
        "id": "nkuT1c7w23Cl"
      },
      "source": [
        "# <font color='red'>Software Developer Foundations - Mid-Class Hackathon</font>\n",
        "\n",
        "# Writing the Word Guesser\n",
        "\n",
        "Today, we're going to create a text-based video game: our own version of the classic game [Hangman](https://en.wikipedia.org/wiki/Hangman_(game)).\n",
        "\n",
        "If you're not familiar with the game, click on the link above to learn more, but we'll break down the basics for _our version_ here:\n",
        "\n",
        "* Your program will store a _secret word_ in a variable that the player will try to guess\n",
        "* On each turn, prompt the user to enter a _single_ letter\n",
        "* If the word does _not_ contain that letter, the player gains a \"strike\". If they have five strikes, they **lose**, and the game stops\n",
        "* If the word _does_ contain that letter, the user is shown the secret word, but every **unguessed** character is **hidden**. If they've guessed every letter in the word, they have **won** the game!\n",
        "\n",
        "Feel free to take liberties with your version, but here's the outcome of our variant, so you can see how the game should work:\n",
        "\n",
        "(Note: The secret word in this case is BUBBLES)\n",
        "\n",
        "```\n",
        "Enter a letter: u\n",
        "Good Guess!\n",
        "Word: _ U _ _ _ _ _\n",
        "Enter a letter: B\n",
        "Good Guess!\n",
        "Word: B U B B _ _ _\n",
        "Enter a letter: z\n",
        "Z is not in the word\n",
        "You have 1 strike. If you get 5, you lose!\n",
        "Enter a letter: E\n",
        "Good Guess!\n",
        "Word: B U B B _ E _\n",
        "Enter a letter: l\n",
        "Good Guess!\n",
        "Word: B U B B L E _\n",
        "Enter a letter: s\n",
        "Good Guess!\n",
        "Word: B U B B L E S\n",
        "You've guessed the word!\n",
        "```\n",
        "\n",
        "***\n",
        "\n",
        "Here are the **requirements** for this program:\n",
        "\n",
        "* Your program must have a _hardcoded_ secret word, and it should **only be a SINGLE word, NOT MULTIPLE** (i.e. no spaces).\n",
        " * Hardcoded means that the word must be stored in a variable in your code, instead of getting it from the user\n",
        " * The word should be only alphabetic characters: no symbols or digits\n",
        "* The game should **repeat** it's logic until the player either _wins_ or _loses_\n",
        "* You should create or use* a **function** that will display the secret word, but _only show the characters the user has guessed_ (the other characters should be `_` underscores)\n",
        " * For example, if the word is BUBBLES, and the user has only guessed the letter \"B\", it should display the following: `B _ B B _ _ _`\n",
        " * If the function is too difficult for you, see the hint \"Displaying the Secret Word\" below\n",
        "* If the user has five strikes, _stop_ repeating the game's logic and tell the user they **lost**\n",
        "* If the user has guessed all the correct letters, then the game should end and tell the player they **won**\n",
        "* The user **should not** be allowed to enter more than one letter\n",
        "* When the user guesses a letter correctly, it should show them the secret word, but _only_ the characters they've guessed so far (using the required function)\n",
        "* When the user guesses a letter incorrectly, it should tell them how many strikes they have, and how many in total they can have before they fail"
      ]
    },
    {
      "cell_type": "markdown",
      "metadata": {
        "id": "ev-J1ELkMDhH"
      },
      "source": [
        "## Hints\n",
        "\n",
        "Throughout the colab document, there are hints you can click on that provide pieces of the code/algorithm. \n",
        "\n",
        "On each section, give it a try yourself first, but if you're stuck for too long please check out the hint links provided, and reach out to an instructor if you're still confused after looking at the hint."
      ]
    },
    {
      "cell_type": "markdown",
      "metadata": {
        "id": "3uf9SMzQIEXx"
      },
      "source": [
        "## Program Design Step One: Generate Problems\n",
        "\n",
        "Remember that the first step in creating a program is to **make sure you understand the problem**. The best way to do this is to re-read the problem, and ask yourself as many questions as you can. This is how we generate the \"puzzle pieces\" needed to solve the problem.\n",
        "\n",
        "In addition to the sample questions we talk about in the Program Design lecture, here are some good questions to ask yourself:\n",
        "- What data type will I use to store the users' guesses? What requirements do I have for the data type? (i.e. should you be allowed to add values, should you store multiple values, etc.)\n",
        "- How do I take in a letter from the user?\n",
        "- How do I store the secret word, and check if guessed letters are in that secret word?\n",
        "\n",
        "Write your questions in the code cell below as _comments_:"
      ]
    },
    {
      "cell_type": "code",
      "metadata": {
        "id": "Z9D-mnJL2veg"
      },
      "source": [
        ""
      ],
      "execution_count": null,
      "outputs": []
    },
    {
      "cell_type": "markdown",
      "metadata": {
        "id": "RO1v15BrJ05m"
      },
      "source": [
        "_(if you can't think of any, refer to the go-to questions from the Program Design lecture)_"
      ]
    },
    {
      "cell_type": "markdown",
      "metadata": {
        "id": "uv9S5eehKUIH"
      },
      "source": [
        "## Program Design Steps Two and Three: Write the Algorithm\n",
        "\n",
        "Now that we've generated our questions and fleshed out our understanding of the problem, let's create the algorithm _without_ thinking about the Python required. What are the steps that our program needs to go through to play the game of Hangman?\n",
        "\n",
        "Remember that the goal is for each comment to be a task that you can translate to Python, and that these comments will make up the pseudocode of your program.\n",
        "\n",
        "Also remember that it's okay for the pseudo-code to be incomplete. We can always make changes as we go!\n",
        "\n",
        "Write them down as comments in the code cell below. \n"
      ]
    },
    {
      "cell_type": "code",
      "metadata": {
        "id": "HeEbLb4jL9bu"
      },
      "source": [
        ""
      ],
      "execution_count": null,
      "outputs": []
    },
    {
      "cell_type": "markdown",
      "metadata": {
        "id": "LBBQ_D75L9jm"
      },
      "source": [
        "If you're struggling to come up with your algorithm, [click here for the Pseudo-Code](https://pastebin.com/gq4bKCXp)\n",
        "\n",
        "Even if you've done it yourself, you might want to compare it to ours to see what's different - and remember, it's **okay** to be different. There is **more than one right answer** or right way to solve these problems."
      ]
    },
    {
      "cell_type": "markdown",
      "metadata": {
        "id": "jwF8ENDcOFSf"
      },
      "source": [
        "# Setting up the Functions\n",
        "\n",
        "Next, we'll create the functions that we need for the game. Breaking these parts into their own functions is important to making the problem easier to digest.\n",
        "\n",
        "For each of these functions, I want you to create a code cell to test them _separately_ from the final program. Each function should do what it's supposed to do before you try and use it in the main program. That will help when debugging the Word Guesser. \n",
        "\n",
        "You may have decided you need more or less of these functions, and that's okay. But here are some of the best functions to create."
      ]
    },
    {
      "cell_type": "markdown",
      "metadata": {
        "id": "HW45pK5pPfcS"
      },
      "source": [
        "## Getting a Letter from the User\n",
        "\n",
        "Let's start with the easiest of the functions to create. We're going to create a function that will work like `input()` - but instead of taking _any string input_ from the user, we're only going to let the user type in a single letter.\n",
        "\n",
        "If they type in any more than a single letter, we should prompt them to enter a letter _again_, like so:\n",
        "\n",
        "```\n",
        "Enter a letter: BALLOONS\n",
        "Enter a letter: PIE TIN\n",
        "Enter a letter: B\n",
        "```\n",
        "\n",
        "Facts about the function:\n",
        "* The function should **not** take in any parameters.\n",
        "* The function should return a letter\n",
        "* If the user types anything other than a letter, it should re-prompt the user _before_ returning a value and exiting the function.\n",
        "\n",
        "**Hints**\n",
        "\n",
        "[If you only want the Algorithm, Click Here!](https://pastebin.com/ZbR56iZW)\n",
        "\n",
        "[If you need the Python Code for this function, Click Here!](https://pastebin.com/npzBNq5A)"
      ]
    },
    {
      "cell_type": "code",
      "metadata": {
        "id": "rawDC1HCnxuc",
        "colab": {
          "base_uri": "https://localhost:8080/",
          "height": 52
        },
        "outputId": "67678a3c-0ede-436b-ba62-fc0b06b84c17"
      },
      "source": [
        "def getLetter():\n",
        "  letter = \"0\"\n",
        "  \n",
        "  while (True):\n",
        "    letter = input(\"Please enter a letter: \")\n",
        "    if (len(letter) > 1):\n",
        "      print(\"Too many letters! Your guess can only be one letter!\")\n",
        "    else:\n",
        "      return letter.upper()\n",
        "      \n"
      ],
      "execution_count": null,
      "outputs": [
        {
          "output_type": "stream",
          "text": [
            "Please enter a letter: t\n"
          ],
          "name": "stdout"
        },
        {
          "output_type": "execute_result",
          "data": {
            "application/vnd.google.colaboratory.intrinsic+json": {
              "type": "string"
            },
            "text/plain": [
              "'T'"
            ]
          },
          "metadata": {
            "tags": []
          },
          "execution_count": 9
        }
      ]
    },
    {
      "cell_type": "markdown",
      "metadata": {
        "id": "uyMV0pqmPMuv"
      },
      "source": [
        "## Displaying a Secret Word\n",
        "\n",
        "Now for one of the key components: displaying the secret word.\n",
        "\n",
        "This is one of the hardest parts of this program. The goal is to display the secret word, but only show the characters that the user has guessed so far. Every character that _hasn't_ been guessed will be an \"underscore\".\n",
        "\n",
        "For example, if the word is \"APPLE\", but you've only guessed the letters \"P\" and \"E\", it will display the following:\n",
        "\n",
        "```\n",
        "_ P P _ E\n",
        "```\n",
        "\n",
        "Remember to care about case sensitivity: both upper and lower case letters mean the same letter. When taking in user input, and displaying the secret word, consider using `upper()` or `lower()` to force the all characters to the same case.\n",
        "\n",
        "Also, remember that to call `print` **without going to the next line**, use the _end_ parameter:\n",
        "\n",
        "```\n",
        "print(\"H\", end=\"\")\n",
        "```\n",
        "\n",
        "[If you only want the Algorithm, Click Here!](https://pastebin.com/jQu11Ttp)\n",
        "\n",
        "[If you need the Python Code for this function, Click Here!](https://pastebin.com/6GezDVfk)"
      ]
    },
    {
      "cell_type": "code",
      "metadata": {
        "id": "ABB5sJg-nyQZ"
      },
      "source": [
        "def displayWord(secretword,guess):               #there are two arguements for the function; the secret word and the guesses\n",
        "   \n",
        "  for letter in secretWord:                      # walk through each letter in the secret word and check if the guessed letter is in the secret word\n",
        "    if (letter in guess):\n",
        "      print(letter, end=\" \")               #if the guess letter is in the word, print the guess letter\n",
        "    else:\n",
        "      print(\"_\", end=\" \")                  #if the guess letter is not in the word, print a \"_\"\n",
        "  "
      ],
      "execution_count": null,
      "outputs": []
    },
    {
      "cell_type": "markdown",
      "metadata": {
        "id": "IOP_C4D1TjK9"
      },
      "source": [
        "## Determining if the User Won\n",
        "\n",
        "It's a good idea to create a function to tell if a user has won or not, since it would be difficult to fit on a single line of code.\n",
        "\n",
        "Remember that to determine if a user has \"won\", you need to have guessed every unique letter that the secret word is made of. So, for the word Apple, you'd need to guess \"A\", \"E\", \"L\", and \"P\".\n",
        "\n",
        "The easiest way to approach this is with an \"innocent until proven guilty\" styled algorithm. Create a variable that is set to True initially. Then, go through each letter of the secret word, and determine if it's been guessed already. If you find one that has _not_ been guessed already, flip the True to a False. By the end of the function, return the value of the variable - True if they won, False if they haven't.\n",
        "\n",
        "[If you only want the Algorithm, Click Here!](https://pastebin.com/gx46FkU5)\n",
        "\n",
        "[If you need the Python Code for this function, Click Here!](https://pastebin.com/c0k1b8e0)"
      ]
    },
    {
      "cell_type": "code",
      "metadata": {
        "id": "k5I7hkXvnypu"
      },
      "source": [
        "def won (secretWord,guess):         #define the function, also has two arguements; the secret word and the guesses\n",
        "  UserWon = True                    #set to True per the above note\n",
        "\n",
        "  for letters in secretWord:        #walk through each letter in the secret word\n",
        "    if(letters not in guesses):     #if the current letter is not in the guess then change the status of UserWon to false and break the loop\n",
        "      UserWon = False\n",
        "      break \n",
        "\n",
        "  return UserWon"
      ],
      "execution_count": null,
      "outputs": []
    },
    {
      "cell_type": "markdown",
      "metadata": {
        "id": "8zWPkts2U7s2"
      },
      "source": [
        "# The Game Loop\n",
        "\n",
        "Finally, we have everything we need to piece the program together. Use the pseudocode you created above, or the one provided, along with the new functions you created to get the main program setup.\n",
        "\n",
        "The two missing pieces are:\n",
        "* The loop itself. Save this part for last - try to get the _body_ of the loop (a single turn of the game) finished before you create the loop condition.\n",
        " * When you do create the loop condition, remember to create a condition that **stops** the loop when the user has either won the game or lost the game. It **continues** the loop when neither is true (i.e. the game is still going)\n",
        " * Remember to use the function you made that checks if the game has been won.\n",
        " * [If you want to see the loop condition, click here!](https://pastebin.com/DPNMP3km)\n",
        "* Checking if the letter that a user entered is in the word or not\n",
        " * Remember that you can use the `in` keyword to check if a substring (like a letter) is in a string, like so:\n",
        "\n",
        "```\n",
        "myGuess = getLetter()\n",
        "if(myGuess in secretWord):\n",
        "   # Do something when correct\n",
        "```"
      ]
    },
    {
      "cell_type": "markdown",
      "metadata": {
        "id": "UeJMlZpiUry1"
      },
      "source": [
        "Your program will store a secret word in a variable that the player will try to guess\n",
        "On each turn, prompt the user to enter a single letter\n",
        "If the word does not contain that letter, the player gains a \"strike\". If they have five strikes, they lose, and the game stops\n",
        "If the word does contain that letter, the user is shown the secret word, but every unguessed character is hidden. If they've guessed every letter in the word, they have won the game!"
      ]
    },
    {
      "cell_type": "code",
      "metadata": {
        "id": "2goTo-KDnzJy",
        "colab": {
          "base_uri": "https://localhost:8080/"
        },
        "outputId": "50e56fe3-7310-43b4-a8f8-ca424bcbeb9d"
      },
      "source": [
        "secretWord = \"CAT\"     #define the secret word\n",
        "guesses = []            #create an empty list for the guesses\n",
        "strikes = 0             #set the number of strikes to 0\n",
        "losecondition = 5       #set the number of strikes it takes to lose the game\n",
        "\n",
        "#main loop condition for game\n",
        "while ((not won(secretWord,guesses)) and (strikes < losecondition)):\n",
        "  guess = getLetter()\n",
        "\n",
        "  if (guess in secretWord):\n",
        "    guesses.append(guess)\n",
        "    displayWord(secretWord,guesses)\n",
        "\n",
        "  else: \n",
        "    strikes += 1\n",
        "    print(f\"You have {strikes} strikes. If you get 5, you lose!\")\n",
        "\n",
        "if (strikes >= losecondition):\n",
        "  print(\"You lose!\")\n",
        "\n",
        "else:\n",
        "  print(\"You win!\")\n",
        "\n",
        "\n",
        "\n",
        "\n",
        "\n",
        "\n",
        "\n"
      ],
      "execution_count": null,
      "outputs": [
        {
          "output_type": "stream",
          "text": [
            "Please enter a letter: C\n",
            "C _ _ Please enter a letter: A\n",
            "C A _ Please enter a letter: R\n",
            "You have 1 strikes. If you get 5, you lose!\n",
            "Please enter a letter: T\n",
            "C A T You win!\n"
          ],
          "name": "stdout"
        }
      ]
    },
    {
      "cell_type": "code",
      "metadata": {
        "id": "q7NTU5vVXR_N"
      },
      "source": [
        ""
      ],
      "execution_count": null,
      "outputs": []
    }
  ]
}